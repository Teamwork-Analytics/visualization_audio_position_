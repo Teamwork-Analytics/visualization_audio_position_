{
 "cells": [
  {
   "cell_type": "code",
   "execution_count": 1,
   "metadata": {
    "pycharm": {
     "name": "#%%\n"
    }
   },
   "outputs": [],
   "source": [
    "import pandas as pd\n",
    "from datetime import datetime\n",
    "\n",
    "session = \"181\"\n",
    "pos_dir = './out/pos'\n",
    "data_dir = \"./data/{}\".format(session)\n"
   ]
  },
  {
   "cell_type": "code",
   "execution_count": 7,
   "metadata": {
    "pycharm": {
     "name": "#%%\n"
    }
   },
   "outputs": [
    {
     "name": "stdout",
     "output_type": "stream",
     "text": [
      "\n",
      "all done!\n"
     ]
    }
   ],
   "source": [
    "\"\"\"\n",
    "@author Riordan Dervin Alfredo <riordan.alfredo@monash.edu>\n",
    "\"\"\"\n",
    "# Run to extract all pozyx position data\n",
    "# json -> csv\n",
    "\n",
    "data_in = \"{}/{}.json\".format(data_dir, session)\n",
    "sync_path = \"{}/sync.txt\".format(data_dir)\n",
    "%run pozyx_extraction.py -p $data_in -o \"out/pos/\" -s {sync_path}"
   ]
  },
  {
   "cell_type": "code",
   "execution_count": 12,
   "metadata": {
    "pycharm": {
     "name": "#%%\n"
    }
   },
   "outputs": [],
   "source": [
    "colour = \"YELLOW\"\n",
    "file_date = \"10-Aug-2021_12-34-19-064\""
   ]
  },
  {
   "cell_type": "code",
   "execution_count": 21,
   "metadata": {
    "pycharm": {
     "name": "#%%\n"
    }
   },
   "outputs": [
    {
     "name": "stdout",
     "output_type": "stream",
     "text": [
      "./data/181/simulation_YELLOW_10-Aug-2021_12-34-19-064_audio.wav\n",
      "./data/181/sim_YELLOW.wav\n",
      "^C\n"
     ]
    }
   ],
   "source": [
    "# install it separately https://ffmpeg.org/. Use this to re-sample audio data to 48KHz\n",
    "# \n",
    "audio_in = \"{}/simulation_{}_{}_audio.wav\".format(data_dir,colour,file_date)\n",
    "audio_out = \"{}/sim_{}.wav\".format(data_dir,colour)\n",
    "\n",
    "print(audio_in)\n",
    "print(audio_out)\n",
    "\n",
    "!ffmpeg -i {audio_in} -ar 48000 {audio_out}"
   ]
  },
  {
   "cell_type": "code",
   "execution_count": 16,
   "metadata": {
    "pycharm": {
     "name": "#%%\n"
    }
   },
   "outputs": [
    {
     "name": "stdout",
     "output_type": "stream",
     "text": [
      "start\n",
      "here\n",
      " before vad\n",
      "1855.1815\n",
      "thread_started: speech2text thread 0\n",
      "thread_started: speech2text thread 1\n",
      "thread_started: speech2text thread 2\n"
     ]
    },
    {
     "data": {
      "text/plain": "  0%|          | 0/27 [00:00<?, ?it/s]",
      "application/vnd.jupyter.widget-view+json": {
       "version_major": 2,
       "version_minor": 0,
       "model_id": "7733bf9779f7491c9a9f3a4bf5ad7356"
      }
     },
     "metadata": {},
     "output_type": "display_data"
    },
    {
     "data": {
      "text/plain": "  0%|          | 0/28 [00:00<?, ?it/s]",
      "application/vnd.jupyter.widget-view+json": {
       "version_major": 2,
       "version_minor": 0,
       "model_id": "62268d410c4b4d2d907bf08b1902d702"
      }
     },
     "metadata": {},
     "output_type": "display_data"
    },
    {
     "data": {
      "text/plain": "  0%|          | 0/27 [00:00<?, ?it/s]",
      "application/vnd.jupyter.widget-view+json": {
       "version_major": 2,
       "version_minor": 0,
       "model_id": "7661f79dcede4d91825583064d068bd6"
      }
     },
     "metadata": {},
     "output_type": "display_data"
    },
    {
     "name": "stdout",
     "output_type": "stream",
     "text": [
      "thread_finished: speech2text thread 0\n",
      "thread_finished: speech2text thread 2\n",
      "thread_finished: speech2text thread 1\n",
      "object\n"
     ]
    }
   ],
   "source": [
    "# TODO: replace audio file name!\n",
    "# A script to convert speech to text, wav -> csv\n",
    "audio_sim_dir = './out/audio-sim'\n",
    "audio_csv_out = \"{}/{}_{}.csv\".format(audio_sim_dir, session, colour)\n",
    "\n",
    "%run hive_automation.py -a {audio_out} -o {audio_csv_out} -s \"145\" -w \"1\" -t \"3\""
   ]
  },
  {
   "cell_type": "code",
   "execution_count": 17,
   "metadata": {
    "pycharm": {
     "name": "#%%\n"
    }
   },
   "outputs": [
    {
     "data": {
      "text/plain": "   Unnamed: 0  audio_start_timestamp audio time            x            y\n0           0           1.628563e+09    0:00:03  2656.267804 -1427.615068\n1           1           1.628563e+09    0:00:04  2650.970571 -1426.437905\n2           2           1.628563e+09    0:00:05  2660.863499 -1440.159660\n3           3           1.628563e+09    0:00:06  2679.754420 -1462.706888\n4           4           1.628563e+09    0:00:07  2698.645341 -1485.254117",
      "text/html": "<div>\n<style scoped>\n    .dataframe tbody tr th:only-of-type {\n        vertical-align: middle;\n    }\n\n    .dataframe tbody tr th {\n        vertical-align: top;\n    }\n\n    .dataframe thead th {\n        text-align: right;\n    }\n</style>\n<table border=\"1\" class=\"dataframe\">\n  <thead>\n    <tr style=\"text-align: right;\">\n      <th></th>\n      <th>Unnamed: 0</th>\n      <th>audio_start_timestamp</th>\n      <th>audio time</th>\n      <th>x</th>\n      <th>y</th>\n    </tr>\n  </thead>\n  <tbody>\n    <tr>\n      <th>0</th>\n      <td>0</td>\n      <td>1.628563e+09</td>\n      <td>0:00:03</td>\n      <td>2656.267804</td>\n      <td>-1427.615068</td>\n    </tr>\n    <tr>\n      <th>1</th>\n      <td>1</td>\n      <td>1.628563e+09</td>\n      <td>0:00:04</td>\n      <td>2650.970571</td>\n      <td>-1426.437905</td>\n    </tr>\n    <tr>\n      <th>2</th>\n      <td>2</td>\n      <td>1.628563e+09</td>\n      <td>0:00:05</td>\n      <td>2660.863499</td>\n      <td>-1440.159660</td>\n    </tr>\n    <tr>\n      <th>3</th>\n      <td>3</td>\n      <td>1.628563e+09</td>\n      <td>0:00:06</td>\n      <td>2679.754420</td>\n      <td>-1462.706888</td>\n    </tr>\n    <tr>\n      <th>4</th>\n      <td>4</td>\n      <td>1.628563e+09</td>\n      <td>0:00:07</td>\n      <td>2698.645341</td>\n      <td>-1485.254117</td>\n    </tr>\n  </tbody>\n</table>\n</div>"
     },
     "execution_count": 17,
     "metadata": {},
     "output_type": "execute_result"
    }
   ],
   "source": [
    "# combine position and audio information\n",
    "\n",
    "dfp = pd.read_csv('{}/{}_{}.csv'.format(pos_dir,session,colour))\n",
    "dfa = pd.read_csv('{}/{}_{}.csv'.format(audio_sim_dir,session,colour))\n",
    "\n",
    "dfp.head()"
   ]
  },
  {
   "cell_type": "code",
   "execution_count": 18,
   "metadata": {
    "pycharm": {
     "name": "#%%\n"
    }
   },
   "outputs": [
    {
     "data": {
      "text/plain": "   audio_start_timestamp audio time            x            y  audio   tagId\n0           1.628563e+09    0:00:03  2656.267804 -1427.615068      0  YELLOW\n1           1.628563e+09    0:00:04  2650.970571 -1426.437905      0  YELLOW\n2           1.628563e+09    0:00:05  2660.863499 -1440.159660      0  YELLOW\n3           1.628563e+09    0:00:06  2679.754420 -1462.706888      0  YELLOW\n4           1.628563e+09    0:00:07  2698.645341 -1485.254117      0  YELLOW",
      "text/html": "<div>\n<style scoped>\n    .dataframe tbody tr th:only-of-type {\n        vertical-align: middle;\n    }\n\n    .dataframe tbody tr th {\n        vertical-align: top;\n    }\n\n    .dataframe thead th {\n        text-align: right;\n    }\n</style>\n<table border=\"1\" class=\"dataframe\">\n  <thead>\n    <tr style=\"text-align: right;\">\n      <th></th>\n      <th>audio_start_timestamp</th>\n      <th>audio time</th>\n      <th>x</th>\n      <th>y</th>\n      <th>audio</th>\n      <th>tagId</th>\n    </tr>\n  </thead>\n  <tbody>\n    <tr>\n      <th>0</th>\n      <td>1.628563e+09</td>\n      <td>0:00:03</td>\n      <td>2656.267804</td>\n      <td>-1427.615068</td>\n      <td>0</td>\n      <td>YELLOW</td>\n    </tr>\n    <tr>\n      <th>1</th>\n      <td>1.628563e+09</td>\n      <td>0:00:04</td>\n      <td>2650.970571</td>\n      <td>-1426.437905</td>\n      <td>0</td>\n      <td>YELLOW</td>\n    </tr>\n    <tr>\n      <th>2</th>\n      <td>1.628563e+09</td>\n      <td>0:00:05</td>\n      <td>2660.863499</td>\n      <td>-1440.159660</td>\n      <td>0</td>\n      <td>YELLOW</td>\n    </tr>\n    <tr>\n      <th>3</th>\n      <td>1.628563e+09</td>\n      <td>0:00:06</td>\n      <td>2679.754420</td>\n      <td>-1462.706888</td>\n      <td>0</td>\n      <td>YELLOW</td>\n    </tr>\n    <tr>\n      <th>4</th>\n      <td>1.628563e+09</td>\n      <td>0:00:07</td>\n      <td>2698.645341</td>\n      <td>-1485.254117</td>\n      <td>0</td>\n      <td>YELLOW</td>\n    </tr>\n  </tbody>\n</table>\n</div>"
     },
     "execution_count": 18,
     "metadata": {},
     "output_type": "execute_result"
    }
   ],
   "source": [
    "res = pd.merge(dfp, dfa, on=\"audio time\")\n",
    "final = res.drop(labels=[\"Unnamed: 0_x\", \"Unnamed: 0_y\", \"session\"], axis=1)\n",
    "final['tagId'] = colour\n",
    "final.head()"
   ]
  },
  {
   "cell_type": "code",
   "execution_count": 20,
   "metadata": {
    "pycharm": {
     "name": "#%%\n"
    }
   },
   "outputs": [],
   "source": [
    "\n",
    "result_dir =  \"./out/result\"\n",
    "result_csv = \"{}/{}_{}.csv\".format(result_dir,session,colour)\n",
    "final.to_csv(result_csv, sep=',', encoding='utf-8', index=False)\n",
    "\n",
    "# Save to front-end too!\n",
    "# final.to_csv(\"{}/{}_{}.csv\".format(client_dir,session,colour), sep=',', encoding='utf-8', index=False)"
   ]
  },
  {
   "cell_type": "markdown",
   "metadata": {
    "pycharm": {
     "name": "#%% md\n"
    }
   },
   "source": [
    "# Before you continue...\n",
    "Please repeat all available colours before combining them in the following code cells"
   ]
  },
  {
   "cell_type": "code",
   "execution_count": 27,
   "metadata": {
    "pycharm": {
     "name": "#%%\n"
    }
   },
   "outputs": [],
   "source": [
    "\n",
    "# combine all data\n",
    "df = pd.concat(map(pd.read_csv, [\n",
    "    '{}/{}_RED.csv'.format(result_dir, session), \n",
    "    '{}/{}_YELLOW.csv'.format(result_dir, session), \n",
    "    '{}/{}_BLUE.csv'.format(result_dir, session),\n",
    "    '{}/{}_GREEN.csv'.format(result_dir, session)]), ignore_index=True)\n",
    "\n",
    "df = df.sort_values(by='audio time')"
   ]
  },
  {
   "cell_type": "code",
   "execution_count": 28,
   "metadata": {
    "pycharm": {
     "name": "#%%\n"
    }
   },
   "outputs": [
    {
     "data": {
      "text/html": [
       "<div>\n",
       "<style scoped>\n",
       "    .dataframe tbody tr th:only-of-type {\n",
       "        vertical-align: middle;\n",
       "    }\n",
       "\n",
       "    .dataframe tbody tr th {\n",
       "        vertical-align: top;\n",
       "    }\n",
       "\n",
       "    .dataframe thead th {\n",
       "        text-align: right;\n",
       "    }\n",
       "</style>\n",
       "<table border=\"1\" class=\"dataframe\">\n",
       "  <thead>\n",
       "    <tr style=\"text-align: right;\">\n",
       "      <th></th>\n",
       "      <th>audio_start_timestamp</th>\n",
       "      <th>audio time</th>\n",
       "      <th>x</th>\n",
       "      <th>y</th>\n",
       "      <th>audio</th>\n",
       "      <th>tagId</th>\n",
       "    </tr>\n",
       "  </thead>\n",
       "  <tbody>\n",
       "    <tr>\n",
       "      <th>0</th>\n",
       "      <td>1.629265e+09</td>\n",
       "      <td>0:00:01</td>\n",
       "      <td>-524.789615</td>\n",
       "      <td>4147.306944</td>\n",
       "      <td>0</td>\n",
       "      <td>RED</td>\n",
       "    </tr>\n",
       "    <tr>\n",
       "      <th>2779</th>\n",
       "      <td>1.629265e+09</td>\n",
       "      <td>0:00:02</td>\n",
       "      <td>-167.668741</td>\n",
       "      <td>3779.885582</td>\n",
       "      <td>0</td>\n",
       "      <td>BLUE</td>\n",
       "    </tr>\n",
       "    <tr>\n",
       "      <th>1</th>\n",
       "      <td>1.629265e+09</td>\n",
       "      <td>0:00:02</td>\n",
       "      <td>-326.150993</td>\n",
       "      <td>3904.732677</td>\n",
       "      <td>0</td>\n",
       "      <td>RED</td>\n",
       "    </tr>\n",
       "    <tr>\n",
       "      <th>2</th>\n",
       "      <td>1.629265e+09</td>\n",
       "      <td>0:00:03</td>\n",
       "      <td>336.294696</td>\n",
       "      <td>3196.755684</td>\n",
       "      <td>0</td>\n",
       "      <td>RED</td>\n",
       "    </tr>\n",
       "    <tr>\n",
       "      <th>2780</th>\n",
       "      <td>1.629265e+09</td>\n",
       "      <td>0:00:03</td>\n",
       "      <td>843.721810</td>\n",
       "      <td>3173.210523</td>\n",
       "      <td>0</td>\n",
       "      <td>BLUE</td>\n",
       "    </tr>\n",
       "    <tr>\n",
       "      <th>...</th>\n",
       "      <td>...</td>\n",
       "      <td>...</td>\n",
       "      <td>...</td>\n",
       "      <td>...</td>\n",
       "      <td>...</td>\n",
       "      <td>...</td>\n",
       "    </tr>\n",
       "    <tr>\n",
       "      <th>1644</th>\n",
       "      <td>1.629265e+09</td>\n",
       "      <td>0:27:25</td>\n",
       "      <td>73.828179</td>\n",
       "      <td>7465.051546</td>\n",
       "      <td>0</td>\n",
       "      <td>RED</td>\n",
       "    </tr>\n",
       "    <tr>\n",
       "      <th>1645</th>\n",
       "      <td>1.629265e+09</td>\n",
       "      <td>0:27:26</td>\n",
       "      <td>63.101696</td>\n",
       "      <td>7445.032204</td>\n",
       "      <td>0</td>\n",
       "      <td>RED</td>\n",
       "    </tr>\n",
       "    <tr>\n",
       "      <th>4423</th>\n",
       "      <td>1.629265e+09</td>\n",
       "      <td>0:27:26</td>\n",
       "      <td>4107.109982</td>\n",
       "      <td>2110.458546</td>\n",
       "      <td>0</td>\n",
       "      <td>BLUE</td>\n",
       "    </tr>\n",
       "    <tr>\n",
       "      <th>2778</th>\n",
       "      <td>1.629265e+09</td>\n",
       "      <td>0:27:26</td>\n",
       "      <td>5677.768964</td>\n",
       "      <td>883.438448</td>\n",
       "      <td>0</td>\n",
       "      <td>YELLOW</td>\n",
       "    </tr>\n",
       "    <tr>\n",
       "      <th>5365</th>\n",
       "      <td>1.629265e+09</td>\n",
       "      <td>0:27:26</td>\n",
       "      <td>4300.694918</td>\n",
       "      <td>6344.193220</td>\n",
       "      <td>0</td>\n",
       "      <td>GREEN</td>\n",
       "    </tr>\n",
       "  </tbody>\n",
       "</table>\n",
       "<p>5366 rows × 6 columns</p>\n",
       "</div>"
      ],
      "text/plain": [
       "      audio_start_timestamp audio time            x            y  audio  \\\n",
       "0              1.629265e+09    0:00:01  -524.789615  4147.306944      0   \n",
       "2779           1.629265e+09    0:00:02  -167.668741  3779.885582      0   \n",
       "1              1.629265e+09    0:00:02  -326.150993  3904.732677      0   \n",
       "2              1.629265e+09    0:00:03   336.294696  3196.755684      0   \n",
       "2780           1.629265e+09    0:00:03   843.721810  3173.210523      0   \n",
       "...                     ...        ...          ...          ...    ...   \n",
       "1644           1.629265e+09    0:27:25    73.828179  7465.051546      0   \n",
       "1645           1.629265e+09    0:27:26    63.101696  7445.032204      0   \n",
       "4423           1.629265e+09    0:27:26  4107.109982  2110.458546      0   \n",
       "2778           1.629265e+09    0:27:26  5677.768964   883.438448      0   \n",
       "5365           1.629265e+09    0:27:26  4300.694918  6344.193220      0   \n",
       "\n",
       "       tagId  \n",
       "0        RED  \n",
       "2779    BLUE  \n",
       "1        RED  \n",
       "2        RED  \n",
       "2780    BLUE  \n",
       "...      ...  \n",
       "1644     RED  \n",
       "1645     RED  \n",
       "4423    BLUE  \n",
       "2778  YELLOW  \n",
       "5365   GREEN  \n",
       "\n",
       "[5366 rows x 6 columns]"
      ]
     },
     "execution_count": 28,
     "metadata": {},
     "output_type": "execute_result"
    }
   ],
   "source": [
    "client_dir = \"../client/src/projects/hive/data\"\n",
    "df.to_csv(\"{}/{}_all.csv\".format(client_dir,session), sep=',', encoding='utf-8', index=False)\n",
    "\n",
    "df"
   ]
  }
 ],
 "metadata": {
  "kernelspec": {
   "display_name": "Python 3.9.12 ('base')",
   "language": "python",
   "name": "python3"
  },
  "language_info": {
   "codemirror_mode": {
    "name": "ipython",
    "version": 3
   },
   "file_extension": ".py",
   "mimetype": "text/x-python",
   "name": "python",
   "nbconvert_exporter": "python",
   "pygments_lexer": "ipython3",
   "version": "3.9.12"
  },
  "orig_nbformat": 4,
  "vscode": {
   "interpreter": {
    "hash": "4f3a700aa1fbfda629320bee4d8ef975097bc730cb184fbdbc1827747ea36212"
   }
  }
 },
 "nbformat": 4,
 "nbformat_minor": 2
}